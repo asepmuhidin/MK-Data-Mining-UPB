{
  "nbformat": 4,
  "nbformat_minor": 0,
  "metadata": {
    "colab": {
      "provenance": [],
      "authorship_tag": "ABX9TyNbQURMotI1bIZrdreAdLpk",
      "include_colab_link": true
    },
    "kernelspec": {
      "name": "python3",
      "display_name": "Python 3"
    },
    "language_info": {
      "name": "python"
    }
  },
  "cells": [
    {
      "cell_type": "markdown",
      "metadata": {
        "id": "view-in-github",
        "colab_type": "text"
      },
      "source": [
        "<a href=\"https://colab.research.google.com/github/asepmuhidin/MK-Data-Mining-UPB/blob/main/pipeline.ipynb\" target=\"_parent\"><img src=\"https://colab.research.google.com/assets/colab-badge.svg\" alt=\"Open In Colab\"/></a>"
      ]
    },
    {
      "cell_type": "markdown",
      "source": [
        "# Step 1,2,3\n",
        "### 1.Impor data (Dataset titanic)\n",
        "### 2.Tentukan kolom yang akan dimasukkan ke dalam model\n",
        "### 3.Pisahkan data untuk melatih dan menguji set"
      ],
      "metadata": {
        "id": "WzmsC1ET1TjX"
      }
    },
    {
      "cell_type": "code",
      "execution_count": 3,
      "metadata": {
        "id": "PlMhpTK50n7x"
      },
      "outputs": [],
      "source": [
        "import pandas as pd\n",
        "from sklearn.neighbors import KNeighborsClassifier\n",
        "from sklearn.model_selection import train_test_split\n",
        "\n",
        "df=pd.read_csv(\"https://raw.githubusercontent.com/asepmuhidin/MK-Data-Mining-UPB/main/dataset/titanic.csv\")\n",
        "\n",
        "columns_not_relevan=['PassengerId','Name','Ticket','Cabin']\n",
        "\n",
        "df.drop(columns=columns_not_relevan, inplace=True)\n",
        "\n",
        "X=df.drop(columns='Survived')\n",
        "y=df.Survived\n",
        "\n",
        "X_train,X_test,y_train,y_test=train_test_split(X,y,test_size=0.2, stratify=y, random_state=42)"
      ]
    },
    {
      "cell_type": "markdown",
      "source": [
        "# Step 4\n",
        "### Buat pipeline untuk fitur numerik dan kategorikal"
      ],
      "metadata": {
        "id": "QPdtznq41zxb"
      }
    },
    {
      "cell_type": "code",
      "source": [
        "from sklearn.pipeline import Pipeline\n",
        "from sklearn.preprocessing import MinMaxScaler,OneHotEncoder, StandardScaler\n",
        "from sklearn.impute import SimpleImputer\n",
        "\n",
        "\n",
        "numerical_pipeline=Pipeline([\n",
        " ('imputer', SimpleImputer(strategy='mean')),\n",
        " ('scaler', MinMaxScaler())\n",
        "])\n",
        "\n",
        "categorical_pipeline=Pipeline([\n",
        " ('imputer', SimpleImputer(strategy='most_frequent')),\n",
        " ('encoder', OneHotEncoder())\n",
        "])"
      ],
      "metadata": {
        "id": "5WYiMYdu17mc"
      },
      "execution_count": 24,
      "outputs": []
    },
    {
      "cell_type": "markdown",
      "source": [
        "# Step 5\n",
        "### Buat ColumnTransformer untuk menerapkan pipeline untuk Setiap kumpulan kolom"
      ],
      "metadata": {
        "id": "SKp4bOkE3AVi"
      }
    },
    {
      "cell_type": "code",
      "source": [
        "from sklearn.compose import ColumnTransformer\n",
        "\n",
        "num_columns=['Age','SibSp','Parch','Fare']\n",
        "cat_columns=['Pclass','Sex','Embarked']\n",
        "\n",
        "preprocessor=ColumnTransformer([\n",
        "('numeric',numerical_pipeline, num_columns),\n",
        "('categorical',categorical_pipeline, cat_columns)\n",
        "])"
      ],
      "metadata": {
        "id": "7DxQDvhj3LB4"
      },
      "execution_count": 25,
      "outputs": []
    },
    {
      "cell_type": "markdown",
      "source": [
        "# Step 6\n",
        "### Tambahkan model ke pipeline akhir"
      ],
      "metadata": {
        "id": "bbgBPITw4exr"
      }
    },
    {
      "cell_type": "code",
      "source": [
        "from sklearn.metrics import accuracy_score\n",
        "from sklearn.tree import DecisionTreeClassifier\n",
        "from sklearn.svm import SVC\n",
        "\n",
        "model=Pipeline([\n",
        "('preprocessing',preprocessor),\n",
        "('algo',SVC())\n",
        "])\n",
        "\n",
        "model.fit(X_train,y_train)\n",
        "y_pred=model.predict(X_test)\n",
        "akurasi=accuracy_score(y_test,y_pred)*100\n",
        "print(f\"Akurasi Model :{akurasi}%\")"
      ],
      "metadata": {
        "colab": {
          "base_uri": "https://localhost:8080/"
        },
        "id": "uHuOKyMT4uU9",
        "outputId": "8dcfdae6-ad0e-4a58-d486-d489c4639788"
      },
      "execution_count": 45,
      "outputs": [
        {
          "output_type": "stream",
          "name": "stdout",
          "text": [
            "Akurasi Model :79.3296089385475%\n"
          ]
        }
      ]
    }
  ]
}